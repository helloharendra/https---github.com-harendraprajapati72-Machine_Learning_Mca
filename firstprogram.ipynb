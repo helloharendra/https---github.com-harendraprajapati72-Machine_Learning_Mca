{
 "cells": [
  {
   "cell_type": "code",
   "execution_count": 1,
   "metadata": {},
   "outputs": [
    {
     "name": "stdout",
     "output_type": "stream",
     "text": [
      "      name  age\n",
      "0  harenra   22\n",
      "1    shiva   21\n",
      "2      ram   23\n",
      "3  vinayak   24\n"
     ]
    }
   ],
   "source": [
    "import pandas as pd\n",
    "\n",
    "data={'name':['harenra', 'shiva','ram','vinayak'], 'age':[22,21,23,24]}\n",
    "df=pd.DataFrame(data)\n",
    "print(df)"
   ]
  },
  {
   "cell_type": "code",
   "execution_count": 2,
   "metadata": {},
   "outputs": [
    {
     "name": "stdout",
     "output_type": "stream",
     "text": [
      "0    harenra\n",
      "1      shiva\n",
      "2        ram\n",
      "3    vinayak\n",
      "Name: name, dtype: object\n"
     ]
    }
   ],
   "source": [
    "print(df[\"name\"])"
   ]
  },
  {
   "cell_type": "code",
   "execution_count": 3,
   "metadata": {},
   "outputs": [
    {
     "name": "stdout",
     "output_type": "stream",
     "text": [
      "0    22\n",
      "1    21\n",
      "2    23\n",
      "3    24\n",
      "Name: age, dtype: int64\n"
     ]
    }
   ],
   "source": [
    "print(df[\"age\"])"
   ]
  },
  {
   "cell_type": "code",
   "execution_count": null,
   "metadata": {},
   "outputs": [],
   "source": []
  }
 ],
 "metadata": {
  "kernelspec": {
   "display_name": "Python 3.10.5 64-bit",
   "language": "python",
   "name": "python3"
  },
  "language_info": {
   "codemirror_mode": {
    "name": "ipython",
    "version": 3
   },
   "file_extension": ".py",
   "mimetype": "text/x-python",
   "name": "python",
   "nbconvert_exporter": "python",
   "pygments_lexer": "ipython3",
   "version": "3.10.5"
  },
  "orig_nbformat": 4,
  "vscode": {
   "interpreter": {
    "hash": "aee8b7b246df8f9039afb4144a1f6fd8d2ca17a180786b69acc140d282b71a49"
   }
  }
 },
 "nbformat": 4,
 "nbformat_minor": 2
}
